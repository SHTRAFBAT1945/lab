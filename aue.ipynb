{
  "nbformat": 4,
  "nbformat_minor": 0,
  "metadata": {
    "colab": {
      "provenance": [],
      "authorship_tag": "ABX9TyOgdtZgRgPTPjyUOzhq9Lx1",
      "include_colab_link": true
    },
    "kernelspec": {
      "name": "python3",
      "display_name": "Python 3"
    },
    "language_info": {
      "name": "python"
    }
  },
  "cells": [
    {
      "cell_type": "markdown",
      "metadata": {
        "id": "view-in-github",
        "colab_type": "text"
      },
      "source": [
        "<a href=\"https://colab.research.google.com/github/SHTRAFBAT1945/lab/blob/main/aue.ipynb\" target=\"_parent\"><img src=\"https://colab.research.google.com/assets/colab-badge.svg\" alt=\"Open In Colab\"/></a>"
      ]
    },
    {
      "cell_type": "code",
      "execution_count": 5,
      "metadata": {
        "colab": {
          "base_uri": "https://localhost:8080/"
        },
        "id": "Qprh6T55vLJb",
        "outputId": "c75ed505-519c-4248-f901-0de8024d44d4"
      },
      "outputs": [
        {
          "output_type": "stream",
          "name": "stdout",
          "text": [
            "[ 5.03194397 -3.04464044]\n"
          ]
        }
      ],
      "source": [
        "import numpy as np\n",
        "from scipy.optimize import fsolve\n",
        "def f(p):\n",
        "  x,y=p\n",
        "  return (x**2+x*y-10, x*y+y**2+np.sin(x)+7)\n",
        "z=fsolve(f,(1,2))\n",
        "print(z)"
      ]
    },
    {
      "cell_type": "code",
      "source": [
        "pip install Coolprop"
      ],
      "metadata": {
        "colab": {
          "base_uri": "https://localhost:8080/"
        },
        "id": "SXQermtQxwkX",
        "outputId": "f0d68a12-2cbc-4423-b65c-239999b17948"
      },
      "execution_count": 6,
      "outputs": [
        {
          "output_type": "stream",
          "name": "stdout",
          "text": [
            "Looking in indexes: https://pypi.org/simple, https://us-python.pkg.dev/colab-wheels/public/simple/\n",
            "Collecting Coolprop\n",
            "  Downloading CoolProp-6.4.3.post1-cp39-cp39-manylinux_2_17_x86_64.manylinux2014_x86_64.whl (6.2 MB)\n",
            "\u001b[2K     \u001b[90m━━━━━━━━━━━━━━━━━━━━━━━━━━━━━━━━━━━━━━━━\u001b[0m \u001b[32m6.2/6.2 MB\u001b[0m \u001b[31m44.3 MB/s\u001b[0m eta \u001b[36m0:00:00\u001b[0m\n",
            "\u001b[?25hInstalling collected packages: Coolprop\n",
            "Successfully installed Coolprop-6.4.3.post1\n"
          ]
        }
      ]
    },
    {
      "cell_type": "code",
      "source": [
        "import CoolProp.CoolProp as ct \n",
        "import numpy as np\n",
        "import matplotlib.pyplot as plt\n",
        "fluid_name=\"water\"\n",
        "t=np.linspace(274,400,500)\n",
        "p=101325\n",
        "d=ct.PropsSI(\"D\",\"T\",t,\"P\",p,fluid_name)\n",
        "plt.plot(t,d,\"r\")\n",
        "plt.title(\"график\")\n",
        "plt.xlabel(\"темпtратура\")\n",
        "plt.ylabel(\"давление\")\n",
        "plt.scatter(373.15,ct.PropsSI(\"\"))\n",
        "plt.grid()\n",
        "plt.show\n"
      ],
      "metadata": {
        "colab": {
          "base_uri": "https://localhost:8080/",
          "height": 489
        },
        "id": "ZtzszrlpyMgm",
        "outputId": "7d1e6d94-c524-4cd4-d430-e8a18a5d4a6b"
      },
      "execution_count": 12,
      "outputs": [
        {
          "output_type": "execute_result",
          "data": {
            "text/plain": [
              "<function matplotlib.pyplot.show(close=None, block=None)>"
            ]
          },
          "metadata": {},
          "execution_count": 12
        },
        {
          "output_type": "display_data",
          "data": {
            "text/plain": [
              "<Figure size 640x480 with 1 Axes>"
            ],
            "image/png": "[encoded data removed]"
          },
          "metadata": {}
        }
      ]
    }
  ]
}